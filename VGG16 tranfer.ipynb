{
 "cells": [
  {
   "cell_type": "code",
   "execution_count": 2,
   "id": "08781a2f",
   "metadata": {},
   "outputs": [],
   "source": [
    "import keras\n",
    "from keras.models import Model\n",
    "from keras.layers import Dense\n",
    "from keras import optimizers\n",
    "from keras.preprocessing.image import ImageDataGenerator\n",
    "from keras.preprocessing import image"
   ]
  },
  {
   "cell_type": "code",
   "execution_count": 16,
   "id": "90dbad7d",
   "metadata": {},
   "outputs": [
    {
     "name": "stdout",
     "output_type": "stream",
     "text": [
      "Found 500 images belonging to 5 classes.\n",
      "Found 125 images belonging to 5 classes.\n"
     ]
    }
   ],
   "source": [
    "trdata = ImageDataGenerator()\n",
    "traindata = trdata.flow_from_directory(directory=\"./datasets/flowers_small\",target_size=(224,224), class_mode=\"sparse\")\n",
    "tsdata = ImageDataGenerator()\n",
    "testdata = tsdata.flow_from_directory(directory=\"./datasets/flowers_small_test\", target_size=(224,224), class_mode=\"sparse\")"
   ]
  },
  {
   "cell_type": "code",
   "execution_count": 3,
   "id": "ad959d11",
   "metadata": {},
   "outputs": [
    {
     "name": "stdout",
     "output_type": "stream",
     "text": [
      "Downloading data from https://storage.googleapis.com/tensorflow/keras-applications/vgg16/vgg16_weights_tf_dim_ordering_tf_kernels.h5\n",
      "553467096/553467096 [==============================] - 6s 0us/step\n"
     ]
    }
   ],
   "source": [
    "from keras.applications.vgg16 import VGG16\n",
    "vggmodel = VGG16(weights='imagenet', include_top=True)"
   ]
  },
  {
   "cell_type": "code",
   "execution_count": 4,
   "id": "d7f3f171",
   "metadata": {},
   "outputs": [
    {
     "name": "stdout",
     "output_type": "stream",
     "text": [
      "Model: \"vgg16\"\n",
      "_________________________________________________________________\n",
      " Layer (type)                Output Shape              Param #   \n",
      "=================================================================\n",
      " input_1 (InputLayer)        [(None, 224, 224, 3)]     0         \n",
      "                                                                 \n",
      " block1_conv1 (Conv2D)       (None, 224, 224, 64)      1792      \n",
      "                                                                 \n",
      " block1_conv2 (Conv2D)       (None, 224, 224, 64)      36928     \n",
      "                                                                 \n",
      " block1_pool (MaxPooling2D)  (None, 112, 112, 64)      0         \n",
      "                                                                 \n",
      " block2_conv1 (Conv2D)       (None, 112, 112, 128)     73856     \n",
      "                                                                 \n",
      " block2_conv2 (Conv2D)       (None, 112, 112, 128)     147584    \n",
      "                                                                 \n",
      " block2_pool (MaxPooling2D)  (None, 56, 56, 128)       0         \n",
      "                                                                 \n",
      " block3_conv1 (Conv2D)       (None, 56, 56, 256)       295168    \n",
      "                                                                 \n",
      " block3_conv2 (Conv2D)       (None, 56, 56, 256)       590080    \n",
      "                                                                 \n",
      " block3_conv3 (Conv2D)       (None, 56, 56, 256)       590080    \n",
      "                                                                 \n",
      " block3_pool (MaxPooling2D)  (None, 28, 28, 256)       0         \n",
      "                                                                 \n",
      " block4_conv1 (Conv2D)       (None, 28, 28, 512)       1180160   \n",
      "                                                                 \n",
      " block4_conv2 (Conv2D)       (None, 28, 28, 512)       2359808   \n",
      "                                                                 \n",
      " block4_conv3 (Conv2D)       (None, 28, 28, 512)       2359808   \n",
      "                                                                 \n",
      " block4_pool (MaxPooling2D)  (None, 14, 14, 512)       0         \n",
      "                                                                 \n",
      " block5_conv1 (Conv2D)       (None, 14, 14, 512)       2359808   \n",
      "                                                                 \n",
      " block5_conv2 (Conv2D)       (None, 14, 14, 512)       2359808   \n",
      "                                                                 \n",
      " block5_conv3 (Conv2D)       (None, 14, 14, 512)       2359808   \n",
      "                                                                 \n",
      " block5_pool (MaxPooling2D)  (None, 7, 7, 512)         0         \n",
      "                                                                 \n",
      " flatten (Flatten)           (None, 25088)             0         \n",
      "                                                                 \n",
      " fc1 (Dense)                 (None, 4096)              102764544 \n",
      "                                                                 \n",
      " fc2 (Dense)                 (None, 4096)              16781312  \n",
      "                                                                 \n",
      " predictions (Dense)         (None, 1000)              4097000   \n",
      "                                                                 \n",
      "=================================================================\n",
      "Total params: 138,357,544\n",
      "Trainable params: 138,357,544\n",
      "Non-trainable params: 0\n",
      "_________________________________________________________________\n"
     ]
    }
   ],
   "source": [
    "vggmodel.summary()"
   ]
  },
  {
   "cell_type": "code",
   "execution_count": 5,
   "id": "d0e74680",
   "metadata": {},
   "outputs": [
    {
     "name": "stdout",
     "output_type": "stream",
     "text": [
      "<keras.engine.input_layer.InputLayer object at 0x00000257E17D7B20>\n",
      "<keras.layers.convolutional.conv2d.Conv2D object at 0x00000257E189DDC0>\n",
      "<keras.layers.convolutional.conv2d.Conv2D object at 0x00000257E18E9610>\n",
      "<keras.layers.pooling.max_pooling2d.MaxPooling2D object at 0x00000257E196D760>\n",
      "<keras.layers.convolutional.conv2d.Conv2D object at 0x00000257E18E9D90>\n",
      "<keras.layers.convolutional.conv2d.Conv2D object at 0x00000257E19A8A30>\n",
      "<keras.layers.pooling.max_pooling2d.MaxPooling2D object at 0x00000257E19B1EB0>\n",
      "<keras.layers.convolutional.conv2d.Conv2D object at 0x00000257E19B79D0>\n",
      "<keras.layers.convolutional.conv2d.Conv2D object at 0x00000257E19B7610>\n",
      "<keras.layers.convolutional.conv2d.Conv2D object at 0x00000257E19A8E20>\n",
      "<keras.layers.pooling.max_pooling2d.MaxPooling2D object at 0x00000257E19C5CA0>\n",
      "<keras.layers.convolutional.conv2d.Conv2D object at 0x00000257E19C5070>\n",
      "<keras.layers.convolutional.conv2d.Conv2D object at 0x00000257E19CB3D0>\n",
      "<keras.layers.convolutional.conv2d.Conv2D object at 0x00000257E19D19A0>\n",
      "<keras.layers.pooling.max_pooling2d.MaxPooling2D object at 0x00000257E19C2670>\n",
      "<keras.layers.convolutional.conv2d.Conv2D object at 0x00000257E19CB6D0>\n",
      "<keras.layers.convolutional.conv2d.Conv2D object at 0x00000257E19DE430>\n",
      "<keras.layers.convolutional.conv2d.Conv2D object at 0x00000257E19D8AF0>\n",
      "<keras.layers.pooling.max_pooling2d.MaxPooling2D object at 0x00000257E19E9160>\n"
     ]
    }
   ],
   "source": [
    "for layers in (vggmodel.layers)[:19]:\n",
    "    print(layers)\n",
    "    layers.trainable = False"
   ]
  },
  {
   "cell_type": "code",
   "execution_count": 7,
   "id": "9b359f33",
   "metadata": {},
   "outputs": [],
   "source": [
    "X= vggmodel.layers[-2].output\n",
    "predictions = Dense(5, activation=\"softmax\")(X)\n",
    "model_final = Model(vggmodel.input, predictions)"
   ]
  },
  {
   "cell_type": "code",
   "execution_count": 31,
   "id": "b69e15a3",
   "metadata": {},
   "outputs": [],
   "source": [
    "model_final.compile(loss = \"sparse_categorical_crossentropy\", optimizer = optimizers.SGD(learning_rate=0.001, momentum=0.9), metrics=[\"accuracy\"])"
   ]
  },
  {
   "cell_type": "code",
   "execution_count": 11,
   "id": "564ac532",
   "metadata": {},
   "outputs": [
    {
     "name": "stdout",
     "output_type": "stream",
     "text": [
      "Model: \"model\"\n",
      "_________________________________________________________________\n",
      " Layer (type)                Output Shape              Param #   \n",
      "=================================================================\n",
      " input_1 (InputLayer)        [(None, 224, 224, 3)]     0         \n",
      "                                                                 \n",
      " block1_conv1 (Conv2D)       (None, 224, 224, 64)      1792      \n",
      "                                                                 \n",
      " block1_conv2 (Conv2D)       (None, 224, 224, 64)      36928     \n",
      "                                                                 \n",
      " block1_pool (MaxPooling2D)  (None, 112, 112, 64)      0         \n",
      "                                                                 \n",
      " block2_conv1 (Conv2D)       (None, 112, 112, 128)     73856     \n",
      "                                                                 \n",
      " block2_conv2 (Conv2D)       (None, 112, 112, 128)     147584    \n",
      "                                                                 \n",
      " block2_pool (MaxPooling2D)  (None, 56, 56, 128)       0         \n",
      "                                                                 \n",
      " block3_conv1 (Conv2D)       (None, 56, 56, 256)       295168    \n",
      "                                                                 \n",
      " block3_conv2 (Conv2D)       (None, 56, 56, 256)       590080    \n",
      "                                                                 \n",
      " block3_conv3 (Conv2D)       (None, 56, 56, 256)       590080    \n",
      "                                                                 \n",
      " block3_pool (MaxPooling2D)  (None, 28, 28, 256)       0         \n",
      "                                                                 \n",
      " block4_conv1 (Conv2D)       (None, 28, 28, 512)       1180160   \n",
      "                                                                 \n",
      " block4_conv2 (Conv2D)       (None, 28, 28, 512)       2359808   \n",
      "                                                                 \n",
      " block4_conv3 (Conv2D)       (None, 28, 28, 512)       2359808   \n",
      "                                                                 \n",
      " block4_pool (MaxPooling2D)  (None, 14, 14, 512)       0         \n",
      "                                                                 \n",
      " block5_conv1 (Conv2D)       (None, 14, 14, 512)       2359808   \n",
      "                                                                 \n",
      " block5_conv2 (Conv2D)       (None, 14, 14, 512)       2359808   \n",
      "                                                                 \n",
      " block5_conv3 (Conv2D)       (None, 14, 14, 512)       2359808   \n",
      "                                                                 \n",
      " block5_pool (MaxPooling2D)  (None, 7, 7, 512)         0         \n",
      "                                                                 \n",
      " flatten (Flatten)           (None, 25088)             0         \n",
      "                                                                 \n",
      " fc1 (Dense)                 (None, 4096)              102764544 \n",
      "                                                                 \n",
      " fc2 (Dense)                 (None, 4096)              16781312  \n",
      "                                                                 \n",
      " dense_1 (Dense)             (None, 5)                 20485     \n",
      "                                                                 \n",
      "=================================================================\n",
      "Total params: 134,281,029\n",
      "Trainable params: 119,566,341\n",
      "Non-trainable params: 14,714,688\n",
      "_________________________________________________________________\n"
     ]
    }
   ],
   "source": [
    "model_final.summary()"
   ]
  },
  {
   "cell_type": "code",
   "execution_count": 34,
   "id": "184a1811",
   "metadata": {},
   "outputs": [],
   "source": [
    "from keras.callbacks import ModelCheckpoint, EarlyStopping\n",
    "metric = 'val_accuracy'\n",
    "checkpoint = ModelCheckpoint(\"vgg16_1.h5\", monitor=metric, verbose=2, save_best_only=True, save_weights_only=False, mode='auto', save_freq=1)\n",
    "early = EarlyStopping(monitor='metric', min_delta=0.02, patience=5, verbose=1, mode='auto')\n"
   ]
  },
  {
   "cell_type": "code",
   "execution_count": 41,
   "id": "54ae1dcd",
   "metadata": {},
   "outputs": [
    {
     "name": "stderr",
     "output_type": "stream",
     "text": [
      "C:\\Users\\dell\\AppData\\Local\\Temp\\ipykernel_11144\\1417314540.py:1: UserWarning: `Model.fit_generator` is deprecated and will be removed in a future version. Please use `Model.fit`, which supports generators.\n",
      "  model_final.fit_generator(generator= traindata, steps_per_epoch= 1, epochs= 10, validation_data= testdata, validation_steps=1, callbacks=[checkpoint,early])\n"
     ]
    },
    {
     "name": "stdout",
     "output_type": "stream",
     "text": [
      "Epoch 1/10\n",
      "WARNING:tensorflow:Can save best model only with val_accuracy available, skipping.\n",
      "1/1 [==============================] - ETA: 0s - loss: 0.0536 - accuracy: 0.9688WARNING:tensorflow:Early stopping conditioned on metric `metric` which is not available. Available metrics are: loss,accuracy,val_loss,val_accuracy\n",
      "1/1 [==============================] - 17s 17s/step - loss: 0.0536 - accuracy: 0.9688 - val_loss: 1.8376 - val_accuracy: 0.6250\n",
      "Epoch 2/10\n",
      "WARNING:tensorflow:Can save best model only with val_accuracy available, skipping.\n",
      "1/1 [==============================] - ETA: 0s - loss: 0.6173 - accuracy: 0.7500WARNING:tensorflow:Early stopping conditioned on metric `metric` which is not available. Available metrics are: loss,accuracy,val_loss,val_accuracy\n",
      "1/1 [==============================] - 8s 8s/step - loss: 0.6173 - accuracy: 0.7500 - val_loss: 1.9717 - val_accuracy: 0.6562\n",
      "Epoch 3/10\n",
      "WARNING:tensorflow:Can save best model only with val_accuracy available, skipping.\n",
      "1/1 [==============================] - ETA: 0s - loss: 0.2020 - accuracy: 0.9062WARNING:tensorflow:Early stopping conditioned on metric `metric` which is not available. Available metrics are: loss,accuracy,val_loss,val_accuracy\n",
      "1/1 [==============================] - 9s 9s/step - loss: 0.2020 - accuracy: 0.9062 - val_loss: 1.3960 - val_accuracy: 0.6875\n",
      "Epoch 4/10\n",
      "WARNING:tensorflow:Can save best model only with val_accuracy available, skipping.\n",
      "1/1 [==============================] - ETA: 0s - loss: 0.2488 - accuracy: 0.9375WARNING:tensorflow:Early stopping conditioned on metric `metric` which is not available. Available metrics are: loss,accuracy,val_loss,val_accuracy\n",
      "1/1 [==============================] - 8s 8s/step - loss: 0.2488 - accuracy: 0.9375 - val_loss: 1.1224 - val_accuracy: 0.7500\n",
      "Epoch 5/10\n",
      "WARNING:tensorflow:Can save best model only with val_accuracy available, skipping.\n",
      "1/1 [==============================] - ETA: 0s - loss: 0.3315 - accuracy: 0.9062WARNING:tensorflow:Early stopping conditioned on metric `metric` which is not available. Available metrics are: loss,accuracy,val_loss,val_accuracy\n",
      "1/1 [==============================] - 8s 8s/step - loss: 0.3315 - accuracy: 0.9062 - val_loss: 1.2750 - val_accuracy: 0.7500\n",
      "Epoch 6/10\n",
      "WARNING:tensorflow:Can save best model only with val_accuracy available, skipping.\n",
      "1/1 [==============================] - ETA: 0s - loss: 0.1021 - accuracy: 0.9375WARNING:tensorflow:Early stopping conditioned on metric `metric` which is not available. Available metrics are: loss,accuracy,val_loss,val_accuracy\n",
      "1/1 [==============================] - 10s 10s/step - loss: 0.1021 - accuracy: 0.9375 - val_loss: 0.8446 - val_accuracy: 0.8125\n",
      "Epoch 7/10\n",
      "WARNING:tensorflow:Can save best model only with val_accuracy available, skipping.\n",
      "1/1 [==============================] - ETA: 0s - loss: 0.1576 - accuracy: 0.9375WARNING:tensorflow:Early stopping conditioned on metric `metric` which is not available. Available metrics are: loss,accuracy,val_loss,val_accuracy\n",
      "1/1 [==============================] - 8s 8s/step - loss: 0.1576 - accuracy: 0.9375 - val_loss: 0.6671 - val_accuracy: 0.8438\n",
      "Epoch 8/10\n",
      "WARNING:tensorflow:Can save best model only with val_accuracy available, skipping.\n",
      "1/1 [==============================] - ETA: 0s - loss: 0.0145 - accuracy: 1.0000WARNING:tensorflow:Early stopping conditioned on metric `metric` which is not available. Available metrics are: loss,accuracy,val_loss,val_accuracy\n",
      "1/1 [==============================] - 10s 10s/step - loss: 0.0145 - accuracy: 1.0000 - val_loss: 0.8686 - val_accuracy: 0.7812\n",
      "Epoch 9/10\n",
      "WARNING:tensorflow:Can save best model only with val_accuracy available, skipping.\n",
      "1/1 [==============================] - ETA: 0s - loss: 0.0928 - accuracy: 0.9688WARNING:tensorflow:Early stopping conditioned on metric `metric` which is not available. Available metrics are: loss,accuracy,val_loss,val_accuracy\n",
      "1/1 [==============================] - 9s 9s/step - loss: 0.0928 - accuracy: 0.9688 - val_loss: 0.7477 - val_accuracy: 0.8125\n",
      "Epoch 10/10\n",
      "WARNING:tensorflow:Can save best model only with val_accuracy available, skipping.\n",
      "1/1 [==============================] - ETA: 0s - loss: 0.3386 - accuracy: 0.9688WARNING:tensorflow:Early stopping conditioned on metric `metric` which is not available. Available metrics are: loss,accuracy,val_loss,val_accuracy\n",
      "1/1 [==============================] - 8s 8s/step - loss: 0.3386 - accuracy: 0.9688 - val_loss: 1.2131 - val_accuracy: 0.7812\n"
     ]
    }
   ],
   "source": [
    "model_final.fit_generator(generator= traindata, steps_per_epoch= 1, epochs= 10, validation_data= testdata, validation_steps=1, callbacks=[checkpoint,early])\n",
    "model_final.save_weights(\"vgg16_1.h5\")"
   ]
  },
  {
   "cell_type": "code",
   "execution_count": 3,
   "id": "a0d376ab",
   "metadata": {},
   "outputs": [
    {
     "name": "stdout",
     "output_type": "stream",
     "text": [
      "Found 1670 images belonging to 2 classes.\n"
     ]
    }
   ],
   "source": [
    "trdata2 = ImageDataGenerator()\n",
    "traindata2 = trdata2.flow_from_directory(directory=\"../ThermoDataBase/\",target_size=(224,224), class_mode=\"sparse\")"
   ]
  },
  {
   "cell_type": "code",
   "execution_count": null,
   "id": "079f8a7b",
   "metadata": {},
   "outputs": [],
   "source": []
  }
 ],
 "metadata": {
  "kernelspec": {
   "display_name": "Python 3 (ipykernel)",
   "language": "python",
   "name": "python3"
  },
  "language_info": {
   "codemirror_mode": {
    "name": "ipython",
    "version": 3
   },
   "file_extension": ".py",
   "mimetype": "text/x-python",
   "name": "python",
   "nbconvert_exporter": "python",
   "pygments_lexer": "ipython3",
   "version": "3.9.13"
  }
 },
 "nbformat": 4,
 "nbformat_minor": 5
}
