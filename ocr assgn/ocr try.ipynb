{
 "cells": [
  {
   "cell_type": "code",
   "execution_count": 8,
   "id": "f87dc72e",
   "metadata": {},
   "outputs": [],
   "source": [
    "import cv2"
   ]
  },
  {
   "cell_type": "code",
   "execution_count": null,
   "id": "825bbc0e",
   "metadata": {},
   "outputs": [],
   "source": []
  },
  {
   "cell_type": "code",
   "execution_count": 19,
   "id": "f5708c27",
   "metadata": {},
   "outputs": [],
   "source": [
    "image = cv2.imread('images/result_Page_1.jpg')\n",
    "image2 = cv2.imread('images/result_Page_3.jpg')\n",
    "base_im = image.copy()"
   ]
  },
  {
   "cell_type": "code",
   "execution_count": 23,
   "id": "badc7cf5",
   "metadata": {},
   "outputs": [],
   "source": [
    "gray = cv2.cvtColor(image, cv2.COLOR_BGR2GRAY)\n",
    "cv2.imwrite('images/1gray.jpeg', gray)\n",
    "blur = cv2.GaussianBlur(gray, (15,15), 400)\n",
    "cv2.imwrite('images/1blur.jpeg', blur)\n",
    "thresh = cv2.threshold(blur, 0, 255, cv2.THRESH_BINARY_INV + cv2.THRESH_OTSU)[1]"
   ]
  },
  {
   "cell_type": "code",
   "execution_count": 50,
   "id": "8fa6c251",
   "metadata": {},
   "outputs": [],
   "source": [
    "kernel = cv2.getStructuringElement(cv2.MORPH_RECT, (3,50))\n",
    "dilate = cv2.dilate(thresh, kernel, iterations=1)"
   ]
  },
  {
   "cell_type": "code",
   "execution_count": 51,
   "id": "c900a0ed",
   "metadata": {},
   "outputs": [
    {
     "data": {
      "text/plain": [
       "True"
      ]
     },
     "execution_count": 51,
     "metadata": {},
     "output_type": "execute_result"
    }
   ],
   "source": [
    "\n",
    "cv2.imwrite('images/1dilate.jpg', dilate)"
   ]
  },
  {
   "cell_type": "code",
   "execution_count": 28,
   "id": "02472076",
   "metadata": {},
   "outputs": [],
   "source": [
    "def remove_borders(image):\n",
    "    cnts = cv2.findContours(image, cv2.RETR_EXTERNAL, cv2.CHAIN_APPROX_SIMPLE)\n",
    "    cnts = cnts[1]\n",
    "    #cnts = cnts[0] if len(cnts) == 2 else cnts[1]\n",
    "    cv2.drawContours(image, cnts, -1, (0,255,0), 15)\n",
    "    #crop = image[y:y+h, x:x+w]\n",
    "    cv2.imwrite(\"images/1no_borders.jpg\", image)"
   ]
  },
  {
   "cell_type": "code",
   "execution_count": 34,
   "id": "a1962243",
   "metadata": {},
   "outputs": [
    {
     "name": "stdout",
     "output_type": "stream",
     "text": [
      "2\n"
     ]
    }
   ],
   "source": [
    "#remove_borders(gray)\n",
    "cnts = cv2.findContours(gray, cv2.RETR_EXTERNAL, cv2.CHAIN_APPROX_SIMPLE)\n",
    "print(len(cnts))"
   ]
  },
  {
   "cell_type": "code",
   "execution_count": 43,
   "id": "56c668d9",
   "metadata": {},
   "outputs": [
    {
     "data": {
      "text/plain": [
       "True"
      ]
     },
     "execution_count": 43,
     "metadata": {},
     "output_type": "execute_result"
    }
   ],
   "source": [
    "# removing border\n",
    "# cnts = cv2.findContours(gray, cv2.RETR_EXTERNAL, cv2.CHAIN_APPROX_SIMPLE)\n",
    "# cnts = cnts[0] if len(cnts) == 2 else cnts[1]\n",
    "# cnts = sorted(cnts, key=lambda x: cv2.contoursArea(x))\n",
    "contours, heiarchy = cv2.findContours(gray, cv2.RETR_EXTERNAL, cv2.CHAIN_APPROX_SIMPLE)\n",
    "cnts = sorted(contours, key=lambda x:cv2.contourArea(x))\n",
    "base_im = cv2.drawContours(base_im, cnts, -1, (0,255,0), 15)\n",
    "cv2.imwrite(\"images/1no_border_try.jpg\", base_im)"
   ]
  },
  {
   "cell_type": "code",
   "execution_count": 42,
   "id": "afc68a73",
   "metadata": {},
   "outputs": [
    {
     "data": {
      "text/plain": [
       "True"
      ]
     },
     "execution_count": 42,
     "metadata": {},
     "output_type": "execute_result"
    }
   ],
   "source": [
    "for c in cnts:\n",
    "    x, y, w, h = cv2.boundingRect(c)\n",
    "    cv2.rectangle(base_im , (x,y), (x+w, y+h), (36, 255, 12), 2)\n",
    "cv2.imwrite('images/im1.jpg', base_im)"
   ]
  },
  {
   "cell_type": "code",
   "execution_count": 11,
   "id": "df27de04",
   "metadata": {},
   "outputs": [],
   "source": [
    "import pytesseract"
   ]
  },
  {
   "cell_type": "code",
   "execution_count": 78,
   "id": "a7f15371",
   "metadata": {},
   "outputs": [
    {
     "name": "stdout",
     "output_type": "stream",
     "text": [
      "Collecting pytesseract\n",
      "  Downloading pytesseract-0.3.10-py3-none-any.whl (14 kB)\n",
      "Requirement already satisfied: Pillow>=8.0.0 in /Users/apple/anaconda3/lib/python3.9/site-packages (from pytesseract) (9.2.0)\n",
      "Requirement already satisfied: packaging>=21.3 in /Users/apple/anaconda3/lib/python3.9/site-packages (from pytesseract) (21.3)\n",
      "Requirement already satisfied: pyparsing!=3.0.5,>=2.0.2 in /Users/apple/anaconda3/lib/python3.9/site-packages (from packaging>=21.3->pytesseract) (3.0.9)\n",
      "Installing collected packages: pytesseract\n",
      "Successfully installed pytesseract-0.3.10\n",
      "Note: you may need to restart the kernel to use updated packages.\n"
     ]
    }
   ],
   "source": [
    "pip install pytesseract"
   ]
  },
  {
   "cell_type": "code",
   "execution_count": 20,
   "id": "0888692c",
   "metadata": {},
   "outputs": [],
   "source": [
    "text = pytesseract.image_to_string(image)\n",
    "text2 = pytesseract.image_to_string(image2)"
   ]
  },
  {
   "cell_type": "code",
   "execution_count": 21,
   "id": "c5d29145",
   "metadata": {},
   "outputs": [
    {
     "data": {
      "text/plain": [
       "'INDIA Device Name: Pulse Oximeter  REF NML903055  LOT: 34683  CT 4ayK. Zo @  '"
      ]
     },
     "execution_count": 21,
     "metadata": {},
     "output_type": "execute_result"
    }
   ],
   "source": [
    "text = text.replace('\\n', ' ')\n",
    "text2 = text2.replace('\\n', ' ')\n",
    "text"
   ]
  },
  {
   "cell_type": "code",
   "execution_count": 22,
   "id": "e3378978",
   "metadata": {},
   "outputs": [
    {
     "data": {
      "text/plain": [
       "'USA Device Name: C-Pap Machine  REF NML903105  LOT: 34662  STERILE  '"
      ]
     },
     "execution_count": 22,
     "metadata": {},
     "output_type": "execute_result"
    }
   ],
   "source": [
    "text2"
   ]
  },
  {
   "cell_type": "code",
   "execution_count": null,
   "id": "0275dcd2",
   "metadata": {},
   "outputs": [],
   "source": []
  }
 ],
 "metadata": {
  "kernelspec": {
   "display_name": "Python 3 (ipykernel)",
   "language": "python",
   "name": "python3"
  },
  "language_info": {
   "codemirror_mode": {
    "name": "ipython",
    "version": 3
   },
   "file_extension": ".py",
   "mimetype": "text/x-python",
   "name": "python",
   "nbconvert_exporter": "python",
   "pygments_lexer": "ipython3",
   "version": "3.9.13"
  }
 },
 "nbformat": 4,
 "nbformat_minor": 5
}
