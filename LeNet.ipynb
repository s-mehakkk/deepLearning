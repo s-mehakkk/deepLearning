{
 "cells": [
  {
   "cell_type": "code",
   "execution_count": 1,
   "id": "7e9b2216",
   "metadata": {},
   "outputs": [],
   "source": [
    "import tensorflow as tf\n",
    "import keras"
   ]
  },
  {
   "cell_type": "code",
   "execution_count": 2,
   "id": "0d6eca35",
   "metadata": {},
   "outputs": [],
   "source": [
    "(x_train, y_train), (x_test, y_test) = keras.datasets.cifar10.load_data()"
   ]
  },
  {
   "cell_type": "code",
   "execution_count": 3,
   "id": "5389ab4f",
   "metadata": {},
   "outputs": [],
   "source": [
    "import cv2\n",
    "import numpy as np"
   ]
  },
  {
   "cell_type": "code",
   "execution_count": 4,
   "id": "8dbb8c8a",
   "metadata": {},
   "outputs": [],
   "source": [
    "def to_grayscale(data):\n",
    "    data2 = []\n",
    "    for im in data:\n",
    "        data2.append(cv2.cvtColor(im, cv2.COLOR_BGR2GRAY))\n",
    "    data2 = np.array(data2)\n",
    "    data2 = data2.reshape((-1, 32, 32, 1))\n",
    "    print(data2.shape)\n",
    "    return data2\n",
    "    "
   ]
  },
  {
   "cell_type": "code",
   "execution_count": 5,
   "id": "73fdcbee",
   "metadata": {},
   "outputs": [
    {
     "name": "stdout",
     "output_type": "stream",
     "text": [
      "(50000, 32, 32, 1)\n",
      "(10000, 32, 32, 1)\n"
     ]
    }
   ],
   "source": [
    "x_train_g = to_grayscale(x_train)\n",
    "x_test_g = to_grayscale(x_test)"
   ]
  },
  {
   "cell_type": "code",
   "execution_count": 6,
   "id": "3dfcc476",
   "metadata": {},
   "outputs": [
    {
     "data": {
      "text/plain": [
       "(50000, 1)"
      ]
     },
     "execution_count": 6,
     "metadata": {},
     "output_type": "execute_result"
    }
   ],
   "source": [
    "y_train.shape"
   ]
  },
  {
   "cell_type": "code",
   "execution_count": 7,
   "id": "a1f1a34d",
   "metadata": {},
   "outputs": [
    {
     "data": {
      "text/plain": [
       "(50000,)"
      ]
     },
     "execution_count": 7,
     "metadata": {},
     "output_type": "execute_result"
    }
   ],
   "source": [
    "y_train = y_train.reshape((-1,))\n",
    "y_test = y_test.reshape((-1,))\n",
    "y_train.shape"
   ]
  },
  {
   "cell_type": "code",
   "execution_count": 8,
   "id": "9b35f4df",
   "metadata": {},
   "outputs": [],
   "source": [
    "x_train_g = x_train_g/255.0\n",
    "x_test_g = x_test_g/255.0"
   ]
  },
  {
   "cell_type": "code",
   "execution_count": 16,
   "id": "c58db735",
   "metadata": {},
   "outputs": [],
   "source": [
    "model2 = keras.models.Sequential([\n",
    "    keras.Input(shape=(32, 32, 1 )),\n",
    "    keras.layers.Conv2D(filters = 6, kernel_size=(5,5), strides=1, activation=\"tanh\"),\n",
    "    keras.layers.AveragePooling2D(pool_size=(2,2), strides=2),\n",
    "    keras.layers.Conv2D(filters = 16, kernel_size=(5,5), strides=1, activation=\"tanh\"),\n",
    "    keras.layers.AveragePooling2D(pool_size=(2,2), strides=2),\n",
    "    keras.layers.Conv2D(filters = 120, kernel_size=(5,5), strides=1, activation=\"relu\"),\n",
    "    keras.layers.Flatten(),\n",
    "    keras.layers.Dense(84, activation=\"tanh\"),\n",
    "    keras.layers.Dense(10, activation=\"softmax\") \n",
    "])"
   ]
  },
  {
   "cell_type": "code",
   "execution_count": 82,
   "id": "504861b5",
   "metadata": {},
   "outputs": [],
   "source": [
    "model1= keras.models.Sequential([\n",
    "    keras.Input(shape=(32,32,3)),\n",
    "    keras.layers.Conv2D(filters=8, kernel_size=(3,3), strides=1, activation=\"relu\"),\n",
    "    keras.layers.MaxPooling2D(pool_size=(2,2)),\n",
    "    keras.layers.Flatten(),\n",
    "    keras.layers.Dense(units=32, activation=\"relu\"),\n",
    "    keras.layers.Dense(units=10, activation=\"softmax\")\n",
    "])"
   ]
  },
  {
   "cell_type": "code",
   "execution_count": 17,
   "id": "89baebc0",
   "metadata": {},
   "outputs": [],
   "source": [
    "model2.compile(loss = 'sparse_categorical_crossentropy', optimizer = 'adam', metrics = ['accuracy'])"
   ]
  },
  {
   "cell_type": "code",
   "execution_count": 18,
   "id": "c6e36bce",
   "metadata": {},
   "outputs": [
    {
     "name": "stdout",
     "output_type": "stream",
     "text": [
      "Model: \"sequential_1\"\n",
      "_________________________________________________________________\n",
      " Layer (type)                Output Shape              Param #   \n",
      "=================================================================\n",
      " conv2d_3 (Conv2D)           (None, 28, 28, 6)         156       \n",
      "                                                                 \n",
      " average_pooling2d_2 (Averag  (None, 14, 14, 6)        0         \n",
      " ePooling2D)                                                     \n",
      "                                                                 \n",
      " conv2d_4 (Conv2D)           (None, 10, 10, 16)        2416      \n",
      "                                                                 \n",
      " average_pooling2d_3 (Averag  (None, 5, 5, 16)         0         \n",
      " ePooling2D)                                                     \n",
      "                                                                 \n",
      " conv2d_5 (Conv2D)           (None, 1, 1, 120)         48120     \n",
      "                                                                 \n",
      " flatten_1 (Flatten)         (None, 120)               0         \n",
      "                                                                 \n",
      " dense_2 (Dense)             (None, 84)                10164     \n",
      "                                                                 \n",
      " dense_3 (Dense)             (None, 10)                850       \n",
      "                                                                 \n",
      "=================================================================\n",
      "Total params: 61,706\n",
      "Trainable params: 61,706\n",
      "Non-trainable params: 0\n",
      "_________________________________________________________________\n"
     ]
    }
   ],
   "source": [
    "model2.summary()"
   ]
  },
  {
   "cell_type": "code",
   "execution_count": 14,
   "id": "ff2f2569",
   "metadata": {},
   "outputs": [
    {
     "data": {
      "text/plain": [
       "(50000, 32, 32, 1)"
      ]
     },
     "execution_count": 14,
     "metadata": {},
     "output_type": "execute_result"
    }
   ],
   "source": [
    "x_train_g.shape"
   ]
  },
  {
   "cell_type": "code",
   "execution_count": 13,
   "id": "1c3579b1",
   "metadata": {},
   "outputs": [
    {
     "data": {
      "text/plain": [
       "(50000,)"
      ]
     },
     "execution_count": 13,
     "metadata": {},
     "output_type": "execute_result"
    }
   ],
   "source": [
    "y_train.shape"
   ]
  },
  {
   "cell_type": "code",
   "execution_count": 31,
   "id": "644bcd8d",
   "metadata": {},
   "outputs": [],
   "source": [
    "earlyStop = tf.keras.callbacks.EarlyStopping(monitor='loss', patience=4, verbose=True, restore_best_weights=True, start_from_epoch= 5)"
   ]
  },
  {
   "cell_type": "code",
   "execution_count": 32,
   "id": "653c027f",
   "metadata": {},
   "outputs": [
    {
     "name": "stdout",
     "output_type": "stream",
     "text": [
      "Epoch 1/50\n",
      "1250/1250 [==============================] - 9s 7ms/step - loss: 0.7967 - accuracy: 0.7195 - val_loss: 1.9844 - val_accuracy: 0.4385\n",
      "Epoch 2/50\n",
      "1250/1250 [==============================] - 9s 7ms/step - loss: 0.7782 - accuracy: 0.7264 - val_loss: 2.0037 - val_accuracy: 0.4388\n",
      "Epoch 3/50\n",
      "1250/1250 [==============================] - 9s 7ms/step - loss: 0.7588 - accuracy: 0.7355 - val_loss: 2.0350 - val_accuracy: 0.4398\n",
      "Epoch 4/50\n",
      "1250/1250 [==============================] - 9s 7ms/step - loss: 0.7458 - accuracy: 0.7377 - val_loss: 2.0675 - val_accuracy: 0.4390\n",
      "Epoch 5/50\n",
      "1250/1250 [==============================] - 9s 7ms/step - loss: 0.7294 - accuracy: 0.7456 - val_loss: 2.0882 - val_accuracy: 0.4372\n",
      "Epoch 6/50\n",
      "1250/1250 [==============================] - 9s 7ms/step - loss: 0.7164 - accuracy: 0.7498 - val_loss: 2.1279 - val_accuracy: 0.4361\n",
      "Epoch 7/50\n",
      "1250/1250 [==============================] - 9s 7ms/step - loss: 0.6993 - accuracy: 0.7548 - val_loss: 2.1608 - val_accuracy: 0.4303\n",
      "Epoch 8/50\n",
      "1250/1250 [==============================] - 9s 7ms/step - loss: 0.6825 - accuracy: 0.7633 - val_loss: 2.1910 - val_accuracy: 0.4353\n",
      "Epoch 9/50\n",
      "1250/1250 [==============================] - 9s 7ms/step - loss: 0.6730 - accuracy: 0.7638 - val_loss: 2.2139 - val_accuracy: 0.4372\n",
      "Epoch 10/50\n",
      "1250/1250 [==============================] - 9s 7ms/step - loss: 0.6579 - accuracy: 0.7703 - val_loss: 2.2631 - val_accuracy: 0.4312\n",
      "Epoch 11/50\n",
      "1250/1250 [==============================] - 9s 7ms/step - loss: 0.6417 - accuracy: 0.7770 - val_loss: 2.2986 - val_accuracy: 0.4305\n",
      "Epoch 12/50\n",
      "1250/1250 [==============================] - 9s 7ms/step - loss: 0.6291 - accuracy: 0.7800 - val_loss: 2.3280 - val_accuracy: 0.4323\n",
      "Epoch 13/50\n",
      "1250/1250 [==============================] - 10s 8ms/step - loss: 0.6187 - accuracy: 0.7833 - val_loss: 2.3610 - val_accuracy: 0.4284\n",
      "Epoch 14/50\n",
      "1250/1250 [==============================] - 9s 7ms/step - loss: 0.6107 - accuracy: 0.7864 - val_loss: 2.3710 - val_accuracy: 0.4254\n",
      "Epoch 15/50\n",
      "1250/1250 [==============================] - 9s 7ms/step - loss: 0.5934 - accuracy: 0.7930 - val_loss: 2.3889 - val_accuracy: 0.4336\n",
      "Epoch 16/50\n",
      "1250/1250 [==============================] - 9s 7ms/step - loss: 0.5848 - accuracy: 0.7980 - val_loss: 2.4340 - val_accuracy: 0.4272\n",
      "Epoch 17/50\n",
      "1250/1250 [==============================] - 10s 8ms/step - loss: 0.5709 - accuracy: 0.8018 - val_loss: 2.4735 - val_accuracy: 0.4254\n",
      "Epoch 18/50\n",
      "1250/1250 [==============================] - 10s 8ms/step - loss: 0.5650 - accuracy: 0.8023 - val_loss: 2.4867 - val_accuracy: 0.4288\n",
      "Epoch 19/50\n",
      "1250/1250 [==============================] - 9s 8ms/step - loss: 0.5477 - accuracy: 0.8109 - val_loss: 2.5560 - val_accuracy: 0.4244\n",
      "Epoch 20/50\n",
      "1250/1250 [==============================] - 9s 8ms/step - loss: 0.5419 - accuracy: 0.8136 - val_loss: 2.5741 - val_accuracy: 0.4267\n",
      "Epoch 21/50\n",
      "1250/1250 [==============================] - 10s 8ms/step - loss: 0.5329 - accuracy: 0.8153 - val_loss: 2.6043 - val_accuracy: 0.4226\n",
      "Epoch 22/50\n",
      "1250/1250 [==============================] - 9s 7ms/step - loss: 0.5230 - accuracy: 0.8178 - val_loss: 2.6350 - val_accuracy: 0.4269\n",
      "Epoch 23/50\n",
      "1250/1250 [==============================] - 9s 8ms/step - loss: 0.5143 - accuracy: 0.8224 - val_loss: 2.6865 - val_accuracy: 0.4234\n",
      "Epoch 24/50\n",
      "1250/1250 [==============================] - 10s 8ms/step - loss: 0.5013 - accuracy: 0.8252 - val_loss: 2.7091 - val_accuracy: 0.4204\n",
      "Epoch 25/50\n",
      "1250/1250 [==============================] - 9s 7ms/step - loss: 0.4968 - accuracy: 0.8288 - val_loss: 2.7443 - val_accuracy: 0.4219\n",
      "Epoch 26/50\n",
      "1250/1250 [==============================] - 9s 7ms/step - loss: 0.4819 - accuracy: 0.8336 - val_loss: 2.7963 - val_accuracy: 0.4198\n",
      "Epoch 27/50\n",
      "1250/1250 [==============================] - 9s 7ms/step - loss: 0.4780 - accuracy: 0.8352 - val_loss: 2.7865 - val_accuracy: 0.4232\n",
      "Epoch 28/50\n",
      "1250/1250 [==============================] - 9s 7ms/step - loss: 0.4692 - accuracy: 0.8383 - val_loss: 2.8295 - val_accuracy: 0.4188\n",
      "Epoch 29/50\n",
      "1250/1250 [==============================] - 9s 7ms/step - loss: 0.4621 - accuracy: 0.8395 - val_loss: 2.8820 - val_accuracy: 0.4198\n",
      "Epoch 30/50\n",
      "1250/1250 [==============================] - 9s 7ms/step - loss: 0.4538 - accuracy: 0.8413 - val_loss: 2.9059 - val_accuracy: 0.4192\n",
      "Epoch 31/50\n",
      "1250/1250 [==============================] - 9s 7ms/step - loss: 0.4475 - accuracy: 0.8457 - val_loss: 2.9321 - val_accuracy: 0.4241\n",
      "Epoch 32/50\n",
      "1250/1250 [==============================] - 9s 7ms/step - loss: 0.4409 - accuracy: 0.8470 - val_loss: 2.9798 - val_accuracy: 0.4157\n",
      "Epoch 33/50\n",
      "1250/1250 [==============================] - 9s 7ms/step - loss: 0.4320 - accuracy: 0.8481 - val_loss: 3.0056 - val_accuracy: 0.4177\n",
      "Epoch 34/50\n",
      "1250/1250 [==============================] - 9s 7ms/step - loss: 0.4267 - accuracy: 0.8513 - val_loss: 3.0255 - val_accuracy: 0.4166\n",
      "Epoch 35/50\n",
      "1250/1250 [==============================] - 9s 7ms/step - loss: 0.4175 - accuracy: 0.8553 - val_loss: 3.0773 - val_accuracy: 0.4189\n",
      "Epoch 36/50\n",
      "1250/1250 [==============================] - 9s 7ms/step - loss: 0.4184 - accuracy: 0.8560 - val_loss: 3.0943 - val_accuracy: 0.4205\n",
      "Epoch 37/50\n",
      "1250/1250 [==============================] - 9s 7ms/step - loss: 0.4067 - accuracy: 0.8591 - val_loss: 3.1327 - val_accuracy: 0.4165\n",
      "Epoch 38/50\n",
      "1250/1250 [==============================] - 9s 7ms/step - loss: 0.4006 - accuracy: 0.8610 - val_loss: 3.1553 - val_accuracy: 0.4208\n",
      "Epoch 39/50\n",
      "1250/1250 [==============================] - 9s 7ms/step - loss: 0.4011 - accuracy: 0.8622 - val_loss: 3.1780 - val_accuracy: 0.4208\n",
      "Epoch 40/50\n",
      "1250/1250 [==============================] - 9s 7ms/step - loss: 0.3898 - accuracy: 0.8639 - val_loss: 3.2239 - val_accuracy: 0.4140\n",
      "Epoch 41/50\n",
      "1250/1250 [==============================] - 9s 7ms/step - loss: 0.3866 - accuracy: 0.8652 - val_loss: 3.2634 - val_accuracy: 0.4133\n",
      "Epoch 42/50\n",
      "1250/1250 [==============================] - 10s 8ms/step - loss: 0.3815 - accuracy: 0.8673 - val_loss: 3.2556 - val_accuracy: 0.4169\n",
      "Epoch 43/50\n",
      "1250/1250 [==============================] - 10s 8ms/step - loss: 0.3808 - accuracy: 0.8679 - val_loss: 3.2972 - val_accuracy: 0.4170\n",
      "Epoch 44/50\n",
      "1250/1250 [==============================] - 9s 7ms/step - loss: 0.3698 - accuracy: 0.8713 - val_loss: 3.3668 - val_accuracy: 0.4084\n",
      "Epoch 45/50\n",
      "1250/1250 [==============================] - 9s 7ms/step - loss: 0.3739 - accuracy: 0.8712 - val_loss: 3.3741 - val_accuracy: 0.4121\n",
      "Epoch 46/50\n",
      "1250/1250 [==============================] - 9s 7ms/step - loss: 0.3628 - accuracy: 0.8740 - val_loss: 3.3910 - val_accuracy: 0.4166\n",
      "Epoch 47/50\n",
      "1250/1250 [==============================] - 10s 8ms/step - loss: 0.3573 - accuracy: 0.8777 - val_loss: 3.4316 - val_accuracy: 0.4109\n",
      "Epoch 48/50\n",
      "1250/1250 [==============================] - 9s 7ms/step - loss: 0.3489 - accuracy: 0.8806 - val_loss: 3.4647 - val_accuracy: 0.4129\n",
      "Epoch 49/50\n",
      "1250/1250 [==============================] - 9s 7ms/step - loss: 0.3517 - accuracy: 0.8774 - val_loss: 3.4704 - val_accuracy: 0.4143\n",
      "Epoch 50/50\n",
      "1250/1250 [==============================] - 9s 7ms/step - loss: 0.3536 - accuracy: 0.8767 - val_loss: 3.5259 - val_accuracy: 0.4163\n"
     ]
    },
    {
     "data": {
      "text/plain": [
       "<keras.callbacks.History at 0x248a32ac370>"
      ]
     },
     "execution_count": 32,
     "metadata": {},
     "output_type": "execute_result"
    }
   ],
   "source": [
    "model2.fit(x_train_g, y_train, epochs=50, validation_split=0.2, verbose=True, callbacks=[earlyStop])"
   ]
  },
  {
   "cell_type": "code",
   "execution_count": 33,
   "id": "35b7e94a",
   "metadata": {},
   "outputs": [
    {
     "name": "stdout",
     "output_type": "stream",
     "text": [
      "313/313 [==============================] - 1s 3ms/step\n"
     ]
    }
   ],
   "source": [
    "y_pred = model2.predict(x_test_g)"
   ]
  },
  {
   "cell_type": "code",
   "execution_count": 34,
   "id": "7aeb2f87",
   "metadata": {},
   "outputs": [
    {
     "data": {
      "text/plain": [
       "array([[5.93985338e-03, 1.18953958e-01, 1.02158241e-01, 1.06251046e-01,\n",
       "        9.92047600e-04, 3.22354957e-02, 5.29099628e-02, 5.79209486e-03,\n",
       "        1.38734777e-06, 5.74765921e-01],\n",
       "       [2.48961318e-09, 1.86596707e-01, 1.50839174e-09, 2.07164771e-10,\n",
       "        5.39064016e-10, 2.19665264e-09, 9.65518811e-12, 3.52195741e-07,\n",
       "        1.91171700e-03, 8.11491251e-01]], dtype=float32)"
      ]
     },
     "execution_count": 34,
     "metadata": {},
     "output_type": "execute_result"
    }
   ],
   "source": [
    "y_pred[:2]"
   ]
  },
  {
   "cell_type": "code",
   "execution_count": 35,
   "id": "7d13e011",
   "metadata": {},
   "outputs": [
    {
     "data": {
      "text/plain": [
       "[9, 9]"
      ]
     },
     "execution_count": 35,
     "metadata": {},
     "output_type": "execute_result"
    }
   ],
   "source": [
    "y_pred = [np.argmax(elem) for elem in y_pred]\n",
    "y_pred[:2]"
   ]
  },
  {
   "cell_type": "code",
   "execution_count": 36,
   "id": "d58acc5d",
   "metadata": {},
   "outputs": [
    {
     "data": {
      "text/plain": [
       "array([3, 8], dtype=uint8)"
      ]
     },
     "execution_count": 36,
     "metadata": {},
     "output_type": "execute_result"
    }
   ],
   "source": [
    "y_test[:2]"
   ]
  },
  {
   "cell_type": "code",
   "execution_count": 37,
   "id": "5f42b81e",
   "metadata": {},
   "outputs": [
    {
     "name": "stdout",
     "output_type": "stream",
     "text": [
      "Classification Report: \n",
      "               precision    recall  f1-score   support\n",
      "\n",
      "           0       0.48      0.45      0.46      1000\n",
      "           1       0.51      0.51      0.51      1000\n",
      "           2       0.30      0.34      0.32      1000\n",
      "           3       0.25      0.24      0.24      1000\n",
      "           4       0.32      0.31      0.31      1000\n",
      "           5       0.34      0.35      0.34      1000\n",
      "           6       0.45      0.47      0.46      1000\n",
      "           7       0.52      0.48      0.50      1000\n",
      "           8       0.52      0.52      0.52      1000\n",
      "           9       0.45      0.45      0.45      1000\n",
      "\n",
      "    accuracy                           0.41     10000\n",
      "   macro avg       0.41      0.41      0.41     10000\n",
      "weighted avg       0.41      0.41      0.41     10000\n",
      "\n"
     ]
    }
   ],
   "source": [
    "from sklearn.metrics import confusion_matrix , classification_report\n",
    "print(\"Classification Report: \\n\", classification_report(y_test, y_pred))"
   ]
  },
  {
   "cell_type": "code",
   "execution_count": 38,
   "id": "73b5747e",
   "metadata": {},
   "outputs": [
    {
     "name": "stdout",
     "output_type": "stream",
     "text": [
      "[[450  47 113  28  86  26  40  24 138  48]\n",
      " [ 46 507  31  32  24  23  57  20  87 173]\n",
      " [ 82  27 339 115 135 105  84  47  45  21]\n",
      " [ 46  32 108 236  91 192 131  64  28  72]\n",
      " [ 50  32 178  98 314  94  96  80  30  28]\n",
      " [ 41  16 131 151  71 350  60 115  33  32]\n",
      " [ 29  47  89  98 101  77 469  26  24  40]\n",
      " [ 32  23  69  78 100 101  33 485  18  61]\n",
      " [119  85  39  41  47  27  31  27 518  66]\n",
      " [ 47 183  41  59  26  40  43  43  68 450]]\n"
     ]
    }
   ],
   "source": [
    "print(confusion_matrix(y_test, y_pred))"
   ]
  },
  {
   "cell_type": "code",
   "execution_count": null,
   "id": "0133314b",
   "metadata": {},
   "outputs": [],
   "source": []
  }
 ],
 "metadata": {
  "kernelspec": {
   "display_name": "Python 3 (ipykernel)",
   "language": "python",
   "name": "python3"
  },
  "language_info": {
   "codemirror_mode": {
    "name": "ipython",
    "version": 3
   },
   "file_extension": ".py",
   "mimetype": "text/x-python",
   "name": "python",
   "nbconvert_exporter": "python",
   "pygments_lexer": "ipython3",
   "version": "3.9.13"
  }
 },
 "nbformat": 4,
 "nbformat_minor": 5
}
