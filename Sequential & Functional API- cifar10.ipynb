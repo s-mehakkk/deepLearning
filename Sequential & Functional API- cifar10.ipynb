{
 "cells": [
  {
   "cell_type": "code",
   "execution_count": 1,
   "id": "1a83513f",
   "metadata": {},
   "outputs": [],
   "source": [
    "import tensorflow as tf\n",
    "import keras"
   ]
  },
  {
   "cell_type": "code",
   "execution_count": 2,
   "id": "555d8b13",
   "metadata": {},
   "outputs": [],
   "source": [
    "from keras.models import Sequential \n",
    "from keras.layers import Activation, Dense, Conv2D, MaxPooling2D, BatchNormalization, Flatten"
   ]
  },
  {
   "cell_type": "code",
   "execution_count": 3,
   "id": "79e9861c",
   "metadata": {},
   "outputs": [],
   "source": [
    "import ssl\n",
    "ssl._create_default_https_context = ssl._create_unverified_context"
   ]
  },
  {
   "cell_type": "code",
   "execution_count": 4,
   "id": "2c781562",
   "metadata": {},
   "outputs": [],
   "source": [
    "(x_train, y_train), (x_test, y_test) = keras.datasets.cifar10.load_data()\n"
   ]
  },
  {
   "cell_type": "code",
   "execution_count": 5,
   "id": "47f97a2d",
   "metadata": {},
   "outputs": [
    {
     "data": {
      "text/plain": [
       "(50000, 32, 32, 3)"
      ]
     },
     "execution_count": 5,
     "metadata": {},
     "output_type": "execute_result"
    }
   ],
   "source": [
    "x_train.shape"
   ]
  },
  {
   "cell_type": "code",
   "execution_count": 25,
   "id": "305c0c58",
   "metadata": {},
   "outputs": [],
   "source": [
    "x_train = x_train/255.0\n",
    "x_test = x_test/255.0"
   ]
  },
  {
   "cell_type": "code",
   "execution_count": 29,
   "id": "09c5ed4d",
   "metadata": {},
   "outputs": [
    {
     "data": {
      "text/plain": [
       "(50000, 1)"
      ]
     },
     "execution_count": 29,
     "metadata": {},
     "output_type": "execute_result"
    }
   ],
   "source": [
    "y_train.shape"
   ]
  },
  {
   "cell_type": "code",
   "execution_count": 32,
   "id": "6fadb158",
   "metadata": {},
   "outputs": [],
   "source": [
    "y_train = y_train.reshape((-1,))\n",
    "y_test = y_test.reshape((-1,))"
   ]
  },
  {
   "cell_type": "code",
   "execution_count": 31,
   "id": "01fce91b",
   "metadata": {},
   "outputs": [
    {
     "data": {
      "text/plain": [
       "(50000,)"
      ]
     },
     "execution_count": 31,
     "metadata": {},
     "output_type": "execute_result"
    }
   ],
   "source": [
    "y_train.shape"
   ]
  },
  {
   "cell_type": "markdown",
   "id": "967e23a2",
   "metadata": {},
   "source": [
    "## Input - > Conv - > MaxPool - > BN - > Conv -> BN - > Droput - > GAP -> Dense\n"
   ]
  },
  {
   "cell_type": "markdown",
   "id": "5d092d37",
   "metadata": {},
   "source": [
    "### 1) Sequential api"
   ]
  },
  {
   "cell_type": "code",
   "execution_count": 23,
   "id": "83c44d82",
   "metadata": {},
   "outputs": [],
   "source": [
    "model1= Sequential([\n",
    "    keras.Input(shape=(32,32,3)),\n",
    "    Conv2D(filters=8, kernel_size=(3,3), strides=1, activation=\"relu\"),\n",
    "    MaxPooling2D(pool_size=(2,2)),\n",
    "    \n",
    "    Conv2D(filters=16, kernel_size=(5,5), strides=2, activation=\"relu\"),\n",
    "    MaxPooling2D(pool_size=(2,2)),\n",
    "    \n",
    "    Conv2D(filters=16, kernel_size=(3,3), strides=1, activation=\"relu\"),\n",
    "    #MaxPooling2D(pool_size=(2,2)),\n",
    "    \n",
    "    Flatten(),\n",
    "    Dense(units=32, activation=\"relu\"),\n",
    "    Dense(units=10, activation=\"softmax\")\n",
    "])"
   ]
  },
  {
   "cell_type": "code",
   "execution_count": 24,
   "id": "82cd3b09",
   "metadata": {},
   "outputs": [
    {
     "name": "stdout",
     "output_type": "stream",
     "text": [
      "Model: \"sequential_6\"\n",
      "_________________________________________________________________\n",
      " Layer (type)                Output Shape              Param #   \n",
      "=================================================================\n",
      " conv2d_13 (Conv2D)          (None, 30, 30, 8)         224       \n",
      "                                                                 \n",
      " max_pooling2d_11 (MaxPoolin  (None, 15, 15, 8)        0         \n",
      " g2D)                                                            \n",
      "                                                                 \n",
      " conv2d_14 (Conv2D)          (None, 6, 6, 16)          3216      \n",
      "                                                                 \n",
      " max_pooling2d_12 (MaxPoolin  (None, 3, 3, 16)         0         \n",
      " g2D)                                                            \n",
      "                                                                 \n",
      " conv2d_15 (Conv2D)          (None, 1, 1, 16)          2320      \n",
      "                                                                 \n",
      " flatten_1 (Flatten)         (None, 16)                0         \n",
      "                                                                 \n",
      " dense_2 (Dense)             (None, 32)                544       \n",
      "                                                                 \n",
      " dense_3 (Dense)             (None, 10)                330       \n",
      "                                                                 \n",
      "=================================================================\n",
      "Total params: 6,634\n",
      "Trainable params: 6,634\n",
      "Non-trainable params: 0\n",
      "_________________________________________________________________\n"
     ]
    }
   ],
   "source": [
    "model1.summary()"
   ]
  },
  {
   "cell_type": "code",
   "execution_count": 38,
   "id": "ca59b6b5",
   "metadata": {},
   "outputs": [],
   "source": [
    "model1.compile(optimizer='adam',\n",
    "              loss='sparse_categorical_crossentropy',\n",
    "              metrics=['accuracy'])"
   ]
  },
  {
   "cell_type": "code",
   "execution_count": 40,
   "id": "99a85391",
   "metadata": {},
   "outputs": [
    {
     "name": "stdout",
     "output_type": "stream",
     "text": [
      "Epoch 1/10\n",
      "1250/1250 [==============================] - 10s 8ms/step - loss: 1.5333 - accuracy: 0.4418 - val_loss: 1.4585 - val_accuracy: 0.4673\n",
      "Epoch 2/10\n",
      "1250/1250 [==============================] - 9s 7ms/step - loss: 1.4254 - accuracy: 0.4825 - val_loss: 1.3806 - val_accuracy: 0.5044\n",
      "Epoch 3/10\n",
      "1250/1250 [==============================] - 9s 7ms/step - loss: 1.3608 - accuracy: 0.5076 - val_loss: 1.3573 - val_accuracy: 0.5018\n",
      "Epoch 4/10\n",
      "1250/1250 [==============================] - 9s 7ms/step - loss: 1.3103 - accuracy: 0.5272 - val_loss: 1.3389 - val_accuracy: 0.5222\n",
      "Epoch 5/10\n",
      "1250/1250 [==============================] - 9s 7ms/step - loss: 1.2785 - accuracy: 0.5407 - val_loss: 1.2767 - val_accuracy: 0.5501\n",
      "Epoch 6/10\n",
      "1250/1250 [==============================] - 9s 7ms/step - loss: 1.2477 - accuracy: 0.5523 - val_loss: 1.2915 - val_accuracy: 0.5418\n",
      "Epoch 7/10\n",
      "1250/1250 [==============================] - 9s 8ms/step - loss: 1.2207 - accuracy: 0.5612 - val_loss: 1.2627 - val_accuracy: 0.5519\n",
      "Epoch 8/10\n",
      "1250/1250 [==============================] - 9s 7ms/step - loss: 1.2052 - accuracy: 0.5682 - val_loss: 1.2335 - val_accuracy: 0.5627\n",
      "Epoch 9/10\n",
      "1250/1250 [==============================] - 9s 8ms/step - loss: 1.1904 - accuracy: 0.5751 - val_loss: 1.2292 - val_accuracy: 0.5623\n",
      "Epoch 10/10\n",
      "1250/1250 [==============================] - 9s 7ms/step - loss: 1.1688 - accuracy: 0.5808 - val_loss: 1.2254 - val_accuracy: 0.5637\n"
     ]
    },
    {
     "data": {
      "text/plain": [
       "<keras.callbacks.History at 0x28663a47910>"
      ]
     },
     "execution_count": 40,
     "metadata": {},
     "output_type": "execute_result"
    }
   ],
   "source": [
    "model1.fit(x_train, y_train, epochs=10, validation_split=0.2, verbose=True)"
   ]
  },
  {
   "cell_type": "code",
   "execution_count": 11,
   "id": "76ff1449",
   "metadata": {},
   "outputs": [],
   "source": [
    "cnn = Sequential([\n",
    "    Conv2D(filters=32, kernel_size=(3, 3), activation='relu', input_shape=(32, 32, 3)),\n",
    "    MaxPooling2D((2, 2)),\n",
    "    \n",
    "    Conv2D(filters=64, kernel_size=(3, 3), activation='relu'),\n",
    "    MaxPooling2D((2, 2)),\n",
    "    \n",
    "    Flatten(),\n",
    "    Dense(64, activation='relu'),\n",
    "    Dense(10, activation='softmax')\n",
    "])"
   ]
  },
  {
   "cell_type": "code",
   "execution_count": 12,
   "id": "42a692d2",
   "metadata": {},
   "outputs": [
    {
     "name": "stdout",
     "output_type": "stream",
     "text": [
      "Model: \"sequential_1\"\n",
      "_________________________________________________________________\n",
      " Layer (type)                Output Shape              Param #   \n",
      "=================================================================\n",
      " conv2d_2 (Conv2D)           (None, 30, 30, 32)        896       \n",
      "                                                                 \n",
      " max_pooling2d_1 (MaxPooling  (None, 15, 15, 32)       0         \n",
      " 2D)                                                             \n",
      "                                                                 \n",
      " conv2d_3 (Conv2D)           (None, 13, 13, 64)        18496     \n",
      "                                                                 \n",
      " max_pooling2d_2 (MaxPooling  (None, 6, 6, 64)         0         \n",
      " 2D)                                                             \n",
      "                                                                 \n",
      " flatten (Flatten)           (None, 2304)              0         \n",
      "                                                                 \n",
      " dense (Dense)               (None, 64)                147520    \n",
      "                                                                 \n",
      " dense_1 (Dense)             (None, 10)                650       \n",
      "                                                                 \n",
      "=================================================================\n",
      "Total params: 167,562\n",
      "Trainable params: 167,562\n",
      "Non-trainable params: 0\n",
      "_________________________________________________________________\n"
     ]
    }
   ],
   "source": [
    "cnn.summary()"
   ]
  },
  {
   "cell_type": "code",
   "execution_count": 41,
   "id": "9ee34540",
   "metadata": {},
   "outputs": [],
   "source": [
    "cnn.compile(optimizer='adam',\n",
    "              loss='sparse_categorical_crossentropy',\n",
    "              metrics=['accuracy'])"
   ]
  },
  {
   "cell_type": "code",
   "execution_count": 42,
   "id": "b000ccd4",
   "metadata": {},
   "outputs": [
    {
     "name": "stdout",
     "output_type": "stream",
     "text": [
      "Epoch 1/10\n",
      "1250/1250 [==============================] - 22s 17ms/step - loss: 1.5350 - accuracy: 0.4439 - val_loss: 1.2703 - val_accuracy: 0.5559\n",
      "Epoch 2/10\n",
      "1250/1250 [==============================] - 20s 16ms/step - loss: 1.1692 - accuracy: 0.5884 - val_loss: 1.1098 - val_accuracy: 0.6162\n",
      "Epoch 3/10\n",
      "1250/1250 [==============================] - 20s 16ms/step - loss: 1.0339 - accuracy: 0.6405 - val_loss: 1.0341 - val_accuracy: 0.6408\n",
      "Epoch 4/10\n",
      "1250/1250 [==============================] - 21s 17ms/step - loss: 0.9425 - accuracy: 0.6694 - val_loss: 1.0233 - val_accuracy: 0.6458\n",
      "Epoch 5/10\n",
      "1250/1250 [==============================] - 21s 17ms/step - loss: 0.8701 - accuracy: 0.6979 - val_loss: 0.9950 - val_accuracy: 0.6573\n",
      "Epoch 6/10\n",
      "1250/1250 [==============================] - 20s 16ms/step - loss: 0.8185 - accuracy: 0.7162 - val_loss: 0.9382 - val_accuracy: 0.6882\n",
      "Epoch 7/10\n",
      "1250/1250 [==============================] - 21s 16ms/step - loss: 0.7640 - accuracy: 0.7337 - val_loss: 0.9342 - val_accuracy: 0.6827\n",
      "Epoch 8/10\n",
      "1250/1250 [==============================] - 21s 17ms/step - loss: 0.7146 - accuracy: 0.7504 - val_loss: 0.9297 - val_accuracy: 0.6933\n",
      "Epoch 9/10\n",
      "1250/1250 [==============================] - 21s 17ms/step - loss: 0.6725 - accuracy: 0.7687 - val_loss: 0.9368 - val_accuracy: 0.6900\n",
      "Epoch 10/10\n",
      "1250/1250 [==============================] - 21s 17ms/step - loss: 0.6351 - accuracy: 0.7779 - val_loss: 0.9316 - val_accuracy: 0.6930\n"
     ]
    },
    {
     "data": {
      "text/plain": [
       "<keras.callbacks.History at 0x286639f97c0>"
      ]
     },
     "execution_count": 42,
     "metadata": {},
     "output_type": "execute_result"
    }
   ],
   "source": [
    "cnn.fit(x_train, y_train, epochs=10, validation_split=0.2, verbose=True)"
   ]
  },
  {
   "cell_type": "code",
   "execution_count": null,
   "id": "d447ca6c",
   "metadata": {},
   "outputs": [],
   "source": [
    "cnn.fit()"
   ]
  },
  {
   "cell_type": "markdown",
   "id": "b76bf40c",
   "metadata": {},
   "source": [
    "### 2) Functional api"
   ]
  },
  {
   "cell_type": "code",
   "execution_count": 47,
   "id": "ac0ed7b3",
   "metadata": {},
   "outputs": [],
   "source": [
    "input =  tf.keras.Input(shape=(32,32,3))\n",
    "x =      Conv2D(filters=16, kernel_size=(3,3), strides=1, activation=\"relu\") (input)\n",
    "x =      MaxPooling2D(pool_size=(2,2))(x)\n",
    "      \n",
    "x =      Conv2D(filters=32, kernel_size=(5,5), strides=2, activation=\"relu\")(x)\n",
    "x =      MaxPooling2D(pool_size=(2,2))(x)\n",
    "      \n",
    "#x =      Conv2D(filters=16, kernel_size=(3,3), strides=1, activation=\"relu\")(x)\n",
    "      \n",
    "x =      Flatten()(x)\n",
    "x =      Dense(units=64, activation=\"relu\")(x)\n",
    "output = Dense(units=10, activation=\"softmax\")(x)\n",
    "\n",
    "model2 = keras.Model(input, output)"
   ]
  },
  {
   "cell_type": "code",
   "execution_count": 48,
   "id": "260186f6",
   "metadata": {},
   "outputs": [],
   "source": [
    "model2.compile(optimizer='adam',\n",
    "              loss='sparse_categorical_crossentropy',\n",
    "              metrics=['accuracy'])"
   ]
  },
  {
   "cell_type": "code",
   "execution_count": 49,
   "id": "02957682",
   "metadata": {},
   "outputs": [
    {
     "name": "stdout",
     "output_type": "stream",
     "text": [
      "Epoch 1/5\n",
      "1250/1250 [==============================] - 12s 9ms/step - loss: 1.6402 - accuracy: 0.4030 - val_loss: 1.3972 - val_accuracy: 0.5031\n",
      "Epoch 2/5\n",
      "1250/1250 [==============================] - 11s 9ms/step - loss: 1.3285 - accuracy: 0.5234 - val_loss: 1.2701 - val_accuracy: 0.5482\n",
      "Epoch 3/5\n",
      "1250/1250 [==============================] - 11s 9ms/step - loss: 1.2179 - accuracy: 0.5654 - val_loss: 1.2126 - val_accuracy: 0.5672\n",
      "Epoch 4/5\n",
      "1250/1250 [==============================] - 11s 9ms/step - loss: 1.1377 - accuracy: 0.5954 - val_loss: 1.1603 - val_accuracy: 0.5889\n",
      "Epoch 5/5\n",
      "1250/1250 [==============================] - 11s 9ms/step - loss: 1.0814 - accuracy: 0.6171 - val_loss: 1.1273 - val_accuracy: 0.6050\n"
     ]
    },
    {
     "data": {
      "text/plain": [
       "<keras.callbacks.History at 0x285965128b0>"
      ]
     },
     "execution_count": 49,
     "metadata": {},
     "output_type": "execute_result"
    }
   ],
   "source": [
    "model2.fit(x_train, y_train, epochs=5, validation_split=0.2, verbose=True)"
   ]
  },
  {
   "cell_type": "code",
   "execution_count": 58,
   "id": "39b343ba",
   "metadata": {},
   "outputs": [],
   "source": [
    "input =  tf.keras.Input(shape=(32,32,3))\n",
    "x =      Conv2D(filters=64, kernel_size=(3,3), strides=1, activation=\"relu\") (input)\n",
    "x =      MaxPooling2D(pool_size=(2,2))(x)\n",
    "      \n",
    "x =      Conv2D(filters=64, kernel_size=(3,3), strides=1, activation=\"relu\")(x)\n",
    "x =      MaxPooling2D(pool_size=(2,2))(x)\n",
    "\n",
    "x =      Conv2D(filters=64, kernel_size=(3,3), strides=1, activation=\"relu\")(x)\n",
    "x =      MaxPooling2D(pool_size=(2,2))(x)\n",
    "\n",
    "#x =      Conv2D(filters=16, kernel_size=(3,3), strides=1, activation=\"relu\")(x)\n",
    "      \n",
    "x =      Flatten()(x)\n",
    "\n",
    "x =      Dense(units=64, activation=\"relu\")(x)\n",
    "output = Dense(units=10, activation=\"softmax\")(x)\n",
    "\n",
    "model21 = keras.Model(input, output)"
   ]
  },
  {
   "cell_type": "code",
   "execution_count": 59,
   "id": "482a1c42",
   "metadata": {},
   "outputs": [],
   "source": [
    "model21.compile(optimizer='adam',\n",
    "              loss='sparse_categorical_crossentropy',\n",
    "              metrics=['accuracy'])"
   ]
  },
  {
   "cell_type": "code",
   "execution_count": 60,
   "id": "98760851",
   "metadata": {},
   "outputs": [
    {
     "name": "stdout",
     "output_type": "stream",
     "text": [
      "Epoch 1/5\n",
      "1250/1250 [==============================] - 38s 29ms/step - loss: 1.6276 - accuracy: 0.4019 - val_loss: 1.4242 - val_accuracy: 0.4844\n",
      "Epoch 2/5\n",
      "1250/1250 [==============================] - 36s 29ms/step - loss: 1.2556 - accuracy: 0.5523 - val_loss: 1.2157 - val_accuracy: 0.5742\n",
      "Epoch 3/5\n",
      "1250/1250 [==============================] - 37s 30ms/step - loss: 1.0949 - accuracy: 0.6120 - val_loss: 1.0802 - val_accuracy: 0.6222\n",
      "Epoch 4/5\n",
      "1250/1250 [==============================] - 37s 30ms/step - loss: 0.9881 - accuracy: 0.6522 - val_loss: 1.0281 - val_accuracy: 0.6458\n",
      "Epoch 5/5\n",
      "1250/1250 [==============================] - 38s 30ms/step - loss: 0.9162 - accuracy: 0.6758 - val_loss: 0.9832 - val_accuracy: 0.6550\n"
     ]
    },
    {
     "data": {
      "text/plain": [
       "<keras.callbacks.History at 0x28599c349d0>"
      ]
     },
     "execution_count": 60,
     "metadata": {},
     "output_type": "execute_result"
    }
   ],
   "source": [
    "model21.fit(x_train, y_train, epochs=5, validation_split=0.2, verbose=True)"
   ]
  },
  {
   "cell_type": "markdown",
   "id": "b53202b2",
   "metadata": {},
   "source": [
    "### 3) Model Sub-Classing API\n",
    "#### https://towardsdatascience.com/model-sub-classing-and-custom-training-loop-from-scratch-in-tensorflow-2-cc1d4f10fb4e "
   ]
  },
  {
   "cell_type": "code",
   "execution_count": null,
   "id": "8876d349",
   "metadata": {},
   "outputs": [],
   "source": []
  }
 ],
 "metadata": {
  "kernelspec": {
   "display_name": "Python 3 (ipykernel)",
   "language": "python",
   "name": "python3"
  },
  "language_info": {
   "codemirror_mode": {
    "name": "ipython",
    "version": 3
   },
   "file_extension": ".py",
   "mimetype": "text/x-python",
   "name": "python",
   "nbconvert_exporter": "python",
   "pygments_lexer": "ipython3",
   "version": "3.9.13"
  }
 },
 "nbformat": 4,
 "nbformat_minor": 5
}
